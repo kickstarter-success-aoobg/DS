{
  "nbformat": 4,
  "nbformat_minor": 0,
  "metadata": {
    "colab": {
      "name": "Kickstarter NN ELMo Implementation.ipynb",
      "provenance": [],
      "collapsed_sections": []
    },
    "kernelspec": {
      "name": "python3",
      "display_name": "Python 3"
    },
    "accelerator": "TPU"
  },
  "cells": [
    {
      "cell_type": "markdown",
      "metadata": {
        "id": "-jLn3F76CIe0",
        "colab_type": "text"
      },
      "source": [
        "This notebook contains an implementation of ELMo text embeddings of Kickstarter prediction data, for potential use on a RandomForestClassifier or Neural Network. The RFC did not outperform a hyperparameter tuned RFC with tfidf vectorization, so ultimately was not used for the end model in deployment."
      ]
    },
    {
      "cell_type": "code",
      "metadata": {
        "id": "nJlpjPZK1NHr",
        "colab_type": "code",
        "colab": {}
      },
      "source": [
        "# Imports \n",
        "import pandas as pd\n",
        "import numpy as np\n",
        "\n",
        "# Install latest version of pandas profiling\n",
        "!pip install category_encoders\n"
      ],
      "execution_count": null,
      "outputs": []
    },
    {
      "cell_type": "code",
      "metadata": {
        "id": "1Ux2Lf5v2Egp",
        "colab_type": "code",
        "colab": {}
      },
      "source": [
        "# Import data from GitHub repo\n",
        "# Data sourced via https://webrobots.io/kickstarter-datasets/\n",
        "url = \"https://raw.githubusercontent.com/kickstarter-success-aoobg/DS/master/machine_learning/data/Kickstarter.csv\"\n",
        "kickstarter = pd.read_csv(url)"
      ],
      "execution_count": null,
      "outputs": []
    },
    {
      "cell_type": "code",
      "metadata": {
        "id": "GdVnIP-RNT5n",
        "colab_type": "code",
        "colab": {}
      },
      "source": [
        "# Split into train & test data\n",
        "from sklearn.model_selection import train_test_split\n",
        "\n",
        "train, test = train_test_split(kickstarter, \n",
        "                               stratify=kickstarter['state'], \n",
        "                               random_state=7)\n"
      ],
      "execution_count": null,
      "outputs": []
    },
    {
      "cell_type": "code",
      "metadata": {
        "id": "dAtaVabI8x4S",
        "colab_type": "code",
        "colab": {}
      },
      "source": [
        "# Define wrangle function\n",
        "\n",
        "def wrangle(X):\n",
        "  \"\"\" \n",
        "  Wrangles kickstarter data in preparation for binary classification\n",
        "  prediction of success or failure.\n",
        "  \"\"\"\n",
        "  \n",
        "  # Copy to avoid SettingWithCopy error\n",
        "  X = X.copy()\n",
        "\n",
        "  # Reduce to only binary classification of \"Successful\" or \"failed\"\n",
        "  X = X[(X[\"state\"] == \"successful\") | (X[\"state\"] == \"failed\")]\n",
        "\n",
        "  # Convert target to binary variable\n",
        "  X[\"success\"] = X[\"state\"].replace({\"successful\":1, \"failed\":0})\n",
        "\n",
        "  # Create \"Campaign Length\" column & convert Unix to number of days\n",
        "  X[\"campaign_length\"] = (X[\"deadline\"] - X[\"launched_at\"]) / 86400\n",
        "\n",
        "  # Drop any campaigns lasting longer than the allowed 60 days\n",
        "  # (Using 61 to account for unix time conversions between 60 and 61)\n",
        "  X = X[X[\"campaign_length\"] < 61] \n",
        "\n",
        "  # Convert goal column to USD\n",
        "  X[\"usd_goal\"] = X[\"goal\"] * X[\"fx_rate\"]\n",
        "\n",
        "  # Combine text columns for use in NLP modeling\n",
        "  X[\"combined_text\"] = X[\"name\"] + \" \" + X[\"blurb\"]\n",
        "\n",
        "  # Pull category data from json category column\n",
        "  categories = []\n",
        "  for i in enumerate(X[\"category\"]):\n",
        "    df = pd.read_json(i[1])\n",
        "    try:\n",
        "      categories.append(df[\"parent_name\"][0])\n",
        "    except:\n",
        "      categories.append(df[\"name\"][0])\n",
        "  X[\"category\"] = categories\n",
        "\n",
        "  return X"
      ],
      "execution_count": null,
      "outputs": []
    },
    {
      "cell_type": "code",
      "metadata": {
        "id": "W5D1mO55_P6a",
        "colab_type": "code",
        "colab": {}
      },
      "source": [
        "# Wrangle data\n",
        "train = wrangle(train)\n",
        "test = wrangle(test)"
      ],
      "execution_count": null,
      "outputs": []
    },
    {
      "cell_type": "code",
      "metadata": {
        "id": "HfqRnsoadJ92",
        "colab_type": "code",
        "colab": {
          "base_uri": "https://localhost:8080/",
          "height": 88
        },
        "outputId": "07215ae4-f082-4786-8b23-0edbff1b3a34"
      },
      "source": [
        "# Begin ELMo implementation\n",
        "# Code adapted from: \n",
        "# https://www.analyticsvidhya.com/blog/2019/03/learn-to-use-elmo-to-extract-\n",
        "# features-from-text/?utm_source=blog&utm_medium=top-pretrained-models-nlp-article\n",
        "\n",
        "import tensorflow_hub as hub\n",
        "# import tensorflow as tf\n",
        "import tensorflow.compat.v1 as tf\n",
        "tf.disable_v2_behavior()\n",
        "\n",
        "# Disable eager execution for compatability with elmo model \n",
        "tf.compat.v1.disable_eager_execution()\n",
        "\n",
        "# Load elmo3\n",
        "elmo = hub.Module(\"https://tfhub.dev/google/elmo/3\", trainable=True)"
      ],
      "execution_count": null,
      "outputs": [
        {
          "output_type": "stream",
          "text": [
            "WARNING:tensorflow:From /usr/local/lib/python3.6/dist-packages/tensorflow/python/compat/v2_compat.py:96: disable_resource_variables (from tensorflow.python.ops.variable_scope) is deprecated and will be removed in a future version.\n",
            "Instructions for updating:\n",
            "non-resource variables are not supported in the long term\n"
          ],
          "name": "stdout"
        }
      ]
    },
    {
      "cell_type": "code",
      "metadata": {
        "id": "oHaDxcAN1POq",
        "colab_type": "code",
        "colab": {}
      },
      "source": [
        "# Define ELMo function\n",
        "def elmo_vect(x):\n",
        "  ''' \n",
        "  Takes text input and generates ELMo embedding outputs.\n",
        "  '''\n",
        "\n",
        "  embeddings = elmo(\n",
        "    x.tolist(), \n",
        "    signature='default',\n",
        "    as_dict=True)[\"elmo\"]\n",
        "\n",
        "  with tf.Session() as sess:\n",
        "    sess.run(tf.global_variables_initializer())\n",
        "    sess.run(tf.tables_initializer())\n",
        "    return sess.run(embeddings)\n",
        "   # return sess.run(tf.reduce_mean(embeddings,1)) # creates 2D output"
      ],
      "execution_count": null,
      "outputs": []
    },
    {
      "cell_type": "code",
      "metadata": {
        "id": "moH_rWpNx-yz",
        "colab_type": "code",
        "colab": {}
      },
      "source": [
        "# Create batches of data to be used in ELMo -- produces 2D output\n",
        "# list_train = [train[\"combined_text\"][i:i+500] for i in range(0, train.shape[0],500)]\n",
        "# list_test = [test[\"combined_text\"][i:i+500] for i in range(0, test.shape[0],500)]"
      ],
      "execution_count": null,
      "outputs": []
    },
    {
      "cell_type": "code",
      "metadata": {
        "id": "y-jXKpVd1NEj",
        "colab_type": "code",
        "colab": {}
      },
      "source": [
        "# Extract ELMo embeddings for 2D\n",
        "# elmo_train = [elmo_vect(x) for x in list_train]\n",
        "# elmo_test = [elmo_vect(x) for x in list_test]\n",
        "\n",
        "#Extract embeddings for 3D output\n",
        "# using 1500 samples as is max RAM will allow in single batch\n",
        "elmo_train = elmo_vect(train[\"combined_text\"][0:1500])\n",
        "elmo_test = elmo_vect(test[\"combined_text\"][0:1500])\n"
      ],
      "execution_count": null,
      "outputs": []
    },
    {
      "cell_type": "code",
      "metadata": {
        "id": "9srbijIdjN2W",
        "colab_type": "code",
        "colab": {
          "base_uri": "https://localhost:8080/",
          "height": 51
        },
        "outputId": "01c52455-beba-4400-9920-1593bb0561a3"
      },
      "source": [
        "# Look at shape of 3D embeddings\n",
        "print(elmo_train.shape)\n",
        "print(elmo_test.shape)"
      ],
      "execution_count": null,
      "outputs": [
        {
          "output_type": "stream",
          "text": [
            "(1500, 39, 1024)\n",
            "(879, 39, 1024)\n"
          ],
          "name": "stdout"
        }
      ]
    },
    {
      "cell_type": "code",
      "metadata": {
        "id": "8N1qn9RFlRNv",
        "colab_type": "code",
        "colab": {
          "base_uri": "https://localhost:8080/",
          "height": 34
        },
        "outputId": "252f19d4-aa18-4bc9-ce9b-07e02cc75d21"
      },
      "source": [
        "# Pickle 3D embeddings for later use w/o retraining\n",
        "import joblib\n",
        "joblib.dump(elmo_train, 'elmo_train_embeddings3D.pkl')\n",
        "joblib.dump(elmo_test, 'elmo_test_embeddings3D.pkl')"
      ],
      "execution_count": null,
      "outputs": [
        {
          "output_type": "execute_result",
          "data": {
            "text/plain": [
              "['elmo_test_embeddings3D.pkl']"
            ]
          },
          "metadata": {
            "tags": []
          },
          "execution_count": 22
        }
      ]
    },
    {
      "cell_type": "code",
      "metadata": {
        "id": "1ujxMqbY4uG7",
        "colab_type": "code",
        "colab": {}
      },
      "source": [
        "# Concatenate batches for 2D output\n",
        "# elmo_train_full = np.concatenate(elmo_train)\n",
        "# elmo_test_full = np.concatenate(elmo_test)"
      ],
      "execution_count": null,
      "outputs": []
    },
    {
      "cell_type": "code",
      "metadata": {
        "id": "f1GC2z5P5hcm",
        "colab_type": "code",
        "colab": {
          "base_uri": "https://localhost:8080/",
          "height": 51
        },
        "outputId": "08a94be8-001e-49d4-c8d2-89e65652160c"
      },
      "source": [
        "# Shape of 2D embeddings\n",
        "print(elmo_train_full.shape)\n",
        "print(elmo_test_full.shape)"
      ],
      "execution_count": null,
      "outputs": [
        {
          "output_type": "stream",
          "text": [
            "(2634, 1024)\n",
            "(879, 1024)\n"
          ],
          "name": "stdout"
        }
      ]
    },
    {
      "cell_type": "code",
      "metadata": {
        "id": "MDG6kYdg3hwU",
        "colab_type": "code",
        "colab": {
          "base_uri": "https://localhost:8080/",
          "height": 34
        },
        "outputId": "70842f2d-25e2-4e5c-ae88-7ab5ac889473"
      },
      "source": [
        "# Pickle 2D embeddings for later use w/o retraining\n",
        "import joblib\n",
        "joblib.dump(elmo_train_full, 'elmo_train_embeddings.pkl')\n",
        "joblib.dump(elmo_test_full, 'elmo_test_embeddings.pkl')"
      ],
      "execution_count": null,
      "outputs": [
        {
          "output_type": "execute_result",
          "data": {
            "text/plain": [
              "['elmo_test_embeddings.pkl']"
            ]
          },
          "metadata": {
            "tags": []
          },
          "execution_count": 42
        }
      ]
    },
    {
      "cell_type": "markdown",
      "metadata": {
        "id": "zOHJPNCyoF2x",
        "colab_type": "text"
      },
      "source": [
        "# RandomForestClassifier with 2D Embeddings"
      ]
    },
    {
      "cell_type": "code",
      "metadata": {
        "id": "GpqyOqvrEvJ8",
        "colab_type": "code",
        "colab": {}
      },
      "source": [
        "# Load pickled models\n",
        "import joblib\n",
        "elmo_train_full = joblib.load('elmo_train_embeddings.pkl')\n",
        "elmo_test_full = joblib.load('elmo_test_embeddings.pkl')"
      ],
      "execution_count": null,
      "outputs": []
    },
    {
      "cell_type": "code",
      "metadata": {
        "id": "6oaEfVV88QW_",
        "colab_type": "code",
        "colab": {}
      },
      "source": [
        "# Define X matrix and y target to prepare for baseline model\n",
        "features = [\"combined_text\", \"campaign_length\", \"category\", \"usd_goal\"]\n",
        "target = [\"success\"]\n",
        "\n",
        "X_train = train[features]\n",
        "y_train = train[target]\n",
        "\n",
        "X_test = test[features]\n",
        "y_test = test[target]"
      ],
      "execution_count": null,
      "outputs": []
    },
    {
      "cell_type": "code",
      "metadata": {
        "id": "GVXrxeYDOZLi",
        "colab_type": "code",
        "colab": {
          "base_uri": "https://localhost:8080/",
          "height": 207
        },
        "outputId": "65a08d13-9c1d-4b0d-a8d8-da9e1ab14ffc"
      },
      "source": [
        "# Fit RFC\n",
        "from sklearn.ensemble import RandomForestClassifier\n",
        "\n",
        "model = RandomForestClassifier(max_depth=15, n_estimators=10)\n",
        "model.fit(elmo_train_full, y_train)"
      ],
      "execution_count": null,
      "outputs": [
        {
          "output_type": "stream",
          "text": [
            "/usr/local/lib/python3.6/dist-packages/ipykernel_launcher.py:5: DataConversionWarning: A column-vector y was passed when a 1d array was expected. Please change the shape of y to (n_samples,), for example using ravel().\n",
            "  \"\"\"\n"
          ],
          "name": "stderr"
        },
        {
          "output_type": "execute_result",
          "data": {
            "text/plain": [
              "RandomForestClassifier(bootstrap=True, ccp_alpha=0.0, class_weight=None,\n",
              "                       criterion='gini', max_depth=15, max_features='auto',\n",
              "                       max_leaf_nodes=None, max_samples=None,\n",
              "                       min_impurity_decrease=0.0, min_impurity_split=None,\n",
              "                       min_samples_leaf=1, min_samples_split=2,\n",
              "                       min_weight_fraction_leaf=0.0, n_estimators=10,\n",
              "                       n_jobs=None, oob_score=False, random_state=None,\n",
              "                       verbose=0, warm_start=False)"
            ]
          },
          "metadata": {
            "tags": []
          },
          "execution_count": 66
        }
      ]
    },
    {
      "cell_type": "code",
      "metadata": {
        "id": "cce572ONUQft",
        "colab_type": "code",
        "colab": {
          "base_uri": "https://localhost:8080/",
          "height": 34
        },
        "outputId": "8fdfd3d0-eb37-4f7d-cf37-b224ec54c2eb"
      },
      "source": [
        "model.score(elmo_train_full, y_train)"
      ],
      "execution_count": null,
      "outputs": [
        {
          "output_type": "execute_result",
          "data": {
            "text/plain": [
              "0.9863325740318907"
            ]
          },
          "metadata": {
            "tags": []
          },
          "execution_count": 67
        }
      ]
    },
    {
      "cell_type": "code",
      "metadata": {
        "id": "JqH90bY1PoaD",
        "colab_type": "code",
        "colab": {
          "base_uri": "https://localhost:8080/",
          "height": 34
        },
        "outputId": "621569ca-f7df-44ce-85d2-7a88cdb7011e"
      },
      "source": [
        "model.score(elmo_test_full, y_test)"
      ],
      "execution_count": null,
      "outputs": [
        {
          "output_type": "execute_result",
          "data": {
            "text/plain": [
              "0.6370875995449374"
            ]
          },
          "metadata": {
            "tags": []
          },
          "execution_count": 68
        }
      ]
    },
    {
      "cell_type": "code",
      "metadata": {
        "id": "-DUDXOImV0jN",
        "colab_type": "code",
        "colab": {}
      },
      "source": [
        "# Take sample of X_train / X_test\n",
        "# X_train_sampled = X_train\n",
        "# X_test_sampled = X_test"
      ],
      "execution_count": null,
      "outputs": []
    },
    {
      "cell_type": "code",
      "metadata": {
        "id": "5M2ga_kK0-iu",
        "colab_type": "code",
        "colab": {}
      },
      "source": [
        "# Create new columns in df with prediction & probability by row\n",
        "# X_train[\"nlp_pred\"] = grid_search.predict(X_train[\"combined_text\"])\n",
        "# X_train[\"nlp_proba\"] = grid_search.predict_proba(X_train[\"combined_text\"])[:,1]\n",
        "\n",
        "# X_test[\"nlp_pred\"] = grid_search.predict(X_test[\"combined_text\"])\n",
        "# X_test[\"nlp_proba\"] = grid_search.predict_proba(X_test[\"combined_text\"])[:,1]\n",
        "\n",
        "# Create new columns in df with prediction & probability by row\n",
        "X_train[\"nlp_pred\"] = model.predict(elmo_train_full)\n",
        "X_train[\"nlp_proba\"] = model.predict_proba(elmo_train_full)[:,1]\n",
        "\n",
        "X_test[\"nlp_pred\"] = model.predict(elmo_test_full)\n",
        "X_test[\"nlp_proba\"] = model.predict_proba(elmo_test_full)[:,1]\n"
      ],
      "execution_count": null,
      "outputs": []
    },
    {
      "cell_type": "code",
      "metadata": {
        "id": "P9w6lRx1gG2s",
        "colab_type": "code",
        "colab": {}
      },
      "source": [
        "# Categorical encode category column\n",
        "import category_encoders as ce\n",
        "\n",
        "encoder = ce.OrdinalEncoder()\n",
        "X_train[\"category\"] = encoder.fit_transform(X_train[\"category\"])\n",
        "X_test[\"category\"] = encoder.transform(X_test[\"category\"])"
      ],
      "execution_count": null,
      "outputs": []
    },
    {
      "cell_type": "code",
      "metadata": {
        "id": "cVmRq8O5WY2w",
        "colab_type": "code",
        "colab": {}
      },
      "source": [
        "# Generate df to run through final model\n",
        "final_features = [\"campaign_length\", \"category\", \"usd_goal\", \"nlp_proba\"]\n",
        "X_train_final = X_train[final_features]\n",
        "X_test_final = X_test[final_features]"
      ],
      "execution_count": null,
      "outputs": []
    },
    {
      "cell_type": "code",
      "metadata": {
        "id": "C1U-Spdm6mWb",
        "colab_type": "code",
        "colab": {
          "base_uri": "https://localhost:8080/",
          "height": 479
        },
        "outputId": "40bbad1a-7886-4ed3-feb1-f6c6576ca804"
      },
      "source": [
        "# Create final model\n",
        "from sklearn.ensemble import RandomForestClassifier\n",
        "from sklearn.model_selection import GridSearchCV\n",
        "\n",
        "model = RandomForestClassifier()\n",
        "\n",
        "parameters = {\n",
        "    'n_estimators': (5, 10, 20, 50),\n",
        "    'max_depth': (5, 10, 15)\n",
        "}\n",
        "\n",
        "grid_search_final = GridSearchCV(model, parameters, cv=5, n_jobs=-1, verbose=True)\n",
        "grid_search_final.fit(X_train_final, y_train)"
      ],
      "execution_count": null,
      "outputs": [
        {
          "output_type": "stream",
          "text": [
            "Fitting 5 folds for each of 12 candidates, totalling 60 fits\n"
          ],
          "name": "stdout"
        },
        {
          "output_type": "stream",
          "text": [
            "[Parallel(n_jobs=-1)]: Using backend LokyBackend with 2 concurrent workers.\n",
            "[Parallel(n_jobs=-1)]: Done  60 out of  60 | elapsed:    2.8s finished\n",
            "/usr/local/lib/python3.6/dist-packages/sklearn/model_selection/_search.py:739: DataConversionWarning: A column-vector y was passed when a 1d array was expected. Please change the shape of y to (n_samples,), for example using ravel().\n",
            "  self.best_estimator_.fit(X, y, **fit_params)\n"
          ],
          "name": "stderr"
        },
        {
          "output_type": "execute_result",
          "data": {
            "text/plain": [
              "GridSearchCV(cv=5, error_score=nan,\n",
              "             estimator=RandomForestClassifier(bootstrap=True, ccp_alpha=0.0,\n",
              "                                              class_weight=None,\n",
              "                                              criterion='gini', max_depth=None,\n",
              "                                              max_features='auto',\n",
              "                                              max_leaf_nodes=None,\n",
              "                                              max_samples=None,\n",
              "                                              min_impurity_decrease=0.0,\n",
              "                                              min_impurity_split=None,\n",
              "                                              min_samples_leaf=1,\n",
              "                                              min_samples_split=2,\n",
              "                                              min_weight_fraction_leaf=0.0,\n",
              "                                              n_estimators=100, n_jobs=None,\n",
              "                                              oob_score=False,\n",
              "                                              random_state=None, verbose=0,\n",
              "                                              warm_start=False),\n",
              "             iid='deprecated', n_jobs=-1,\n",
              "             param_grid={'max_depth': (5, 10, 15),\n",
              "                         'n_estimators': (5, 10, 20, 50)},\n",
              "             pre_dispatch='2*n_jobs', refit=True, return_train_score=False,\n",
              "             scoring=None, verbose=True)"
            ]
          },
          "metadata": {
            "tags": []
          },
          "execution_count": 74
        }
      ]
    },
    {
      "cell_type": "code",
      "metadata": {
        "id": "2Z4KQSei7QQI",
        "colab_type": "code",
        "colab": {
          "base_uri": "https://localhost:8080/",
          "height": 34
        },
        "outputId": "8f48cc20-b70c-4537-ce32-82efa66c229b"
      },
      "source": [
        "# Look at best score \n",
        "grid_search_final.best_score_"
      ],
      "execution_count": null,
      "outputs": [
        {
          "output_type": "execute_result",
          "data": {
            "text/plain": [
              "0.9870902807339054"
            ]
          },
          "metadata": {
            "tags": []
          },
          "execution_count": 75
        }
      ]
    },
    {
      "cell_type": "code",
      "metadata": {
        "id": "g3ntZ2c97ogz",
        "colab_type": "code",
        "colab": {
          "base_uri": "https://localhost:8080/",
          "height": 34
        },
        "outputId": "c05e90ed-25e0-48f1-e1ec-ff47f57a4e9a"
      },
      "source": [
        "# Look at best params\n",
        "grid_search_final.best_params_"
      ],
      "execution_count": null,
      "outputs": [
        {
          "output_type": "execute_result",
          "data": {
            "text/plain": [
              "{'max_depth': 5, 'n_estimators': 5}"
            ]
          },
          "metadata": {
            "tags": []
          },
          "execution_count": 76
        }
      ]
    },
    {
      "cell_type": "code",
      "metadata": {
        "id": "gPCVx95WXKkS",
        "colab_type": "code",
        "colab": {
          "base_uri": "https://localhost:8080/",
          "height": 105
        },
        "outputId": "651bc95d-0956-408a-a828-15f69ddb4f76"
      },
      "source": [
        "# Refit with best params (embedding)\n",
        "clf = RandomForestClassifier(max_depth=20, n_estimators=1000)\n",
        "\n",
        "clf.fit(X_train_final, y_train)\n",
        "\n",
        "# Look at train score\n",
        "print(\"Train score:\", clf.score(X_train_final, y_train))\n",
        "\n",
        "# Look at test score\n",
        "print(\"Test score:\", clf.score(X_test_final, y_test))"
      ],
      "execution_count": null,
      "outputs": [
        {
          "output_type": "stream",
          "text": [
            "/usr/local/lib/python3.6/dist-packages/ipykernel_launcher.py:4: DataConversionWarning: A column-vector y was passed when a 1d array was expected. Please change the shape of y to (n_samples,), for example using ravel().\n",
            "  after removing the cwd from sys.path.\n"
          ],
          "name": "stderr"
        },
        {
          "output_type": "stream",
          "text": [
            "Train score: 1.0\n",
            "Test score: 0.6325369738339022\n"
          ],
          "name": "stdout"
        }
      ]
    }
  ]
}